{
 "cells": [
  {
   "cell_type": "code",
   "execution_count": 45,
   "id": "3d766766",
   "metadata": {},
   "outputs": [],
   "source": [
    "import turtle  \n",
    "# Creating turtle  \n",
    "t = turtle.Turtle()  \n",
    "turtle.screensize(2000, 2000)\n",
    "turtle.title(\"Prince Verma\")\n",
    "  \n",
    "turtle.bgcolor(\"black\")  \n",
    "turtle.pensize(4)  \n",
    "turtle.speed(80)  \n",
    "a=1\n",
    "while (a<2):  \n",
    "    for i in range(15):  \n",
    "        for colors in [\"red\", \"blue\", \"magenta\", \"green\", \"yellow\", \"white\"]:  \n",
    "            turtle.color(colors)  \n",
    "            turtle.circle(150)  \n",
    "            turtle.left(4)\n",
    "    a=a+1  \n",
    "    \n",
    "    \n",
    "t.pensize(4)\n",
    "b=1\n",
    "while (b<2):\n",
    "    turtle.penup()\n",
    "    turtle.forward(550)\n",
    "    turtle.pendown()\n",
    "    for i in range(15):\n",
    "        for colors in [\"red\",\"blue\",\"green\",\"white\",\"yellow\"]:\n",
    "            turtle.color(colors)\n",
    "            turtle.left(175)\n",
    "            turtle.forward(200)\n",
    "    b=b+1\n",
    "\n",
    "turtle.penup()    \n",
    "turtle.home()\n",
    "turtle.pendown()\n",
    "\n",
    "\n",
    "t.pensize(4)\n",
    "c=1\n",
    "while (c<2):\n",
    "    turtle.penup()\n",
    "    turtle.backward(350)\n",
    "    turtle.pendown()\n",
    "    for i in range(15):\n",
    "        for colors in [\"red\",\"blue\",\"green\",\"white\",\"yellow\"]:\n",
    "            turtle.color(colors)\n",
    "            turtle.right(175)\n",
    "            turtle.forward(200)\n",
    "    c=c+1\n",
    "\n",
    "\n",
    "\n",
    "turtle.hideturtle()  \n",
    "turtle.mainloop()  "
   ]
  },
  {
   "cell_type": "code",
   "execution_count": null,
   "id": "1d365e95",
   "metadata": {},
   "outputs": [],
   "source": []
  },
  {
   "cell_type": "code",
   "execution_count": null,
   "id": "5edb3a9e",
   "metadata": {},
   "outputs": [],
   "source": []
  }
 ],
 "metadata": {
  "kernelspec": {
   "display_name": "Python 3",
   "language": "python",
   "name": "python3"
  },
  "language_info": {
   "codemirror_mode": {
    "name": "ipython",
    "version": 3
   },
   "file_extension": ".py",
   "mimetype": "text/x-python",
   "name": "python",
   "nbconvert_exporter": "python",
   "pygments_lexer": "ipython3",
   "version": "3.8.8"
  }
 },
 "nbformat": 4,
 "nbformat_minor": 5
}
